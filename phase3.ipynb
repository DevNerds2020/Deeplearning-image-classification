{
 "cells": [
  {
   "cell_type": "code",
   "execution_count": 1,
   "metadata": {},
   "outputs": [],
   "source": [
    "import os\n",
    "import torch\n",
    "import torchvision\n",
    "from torchvision import transforms\n",
    "from torch.utils.data import DataLoader, random_split\n",
    "from PIL import Image\n",
    "import torch.nn as nn\n",
    "import torchvision.models as models\n",
    "from sklearn.svm import SVC\n",
    "from sklearn.metrics import accuracy_score, recall_score, precision_score, f1_score, confusion_matrix, roc_curve, roc_auc_score, auc\n",
    "import numpy as np\n",
    "import matplotlib.pyplot as plt\n",
    "import joblib\n",
    "from sklearn.decomposition import PCA\n",
    "import seaborn as sns\n",
    "from sklearn.preprocessing import label_binarize\n",
    "from sklearn.multiclass import OneVsRestClassifier\n",
    "from sklearn.cluster import KMeans\n",
    "from sklearn.metrics import silhouette_score\n",
    "import numpy as np\n",
    "from sklearn.preprocessing import StandardScaler"
   ]
  },
  {
   "cell_type": "code",
   "execution_count": 3,
   "metadata": {},
   "outputs": [],
   "source": [
    "resnet_avgpool_labels_train = np.load('res-net/avgpool_labels_train.npy')\n",
    "resnet_avgpool_features_train = np.load('res-net/avgpool_features_train.npy')\n",
    "resnet_avgpool_features_val = np.load('res-net/avgpool_features_val.npy')\n",
    "resnet_avgpool_labels_val = np.load('res-net/avgpool_labels_val.npy')\n",
    "\n",
    "inception_avgpool_labels_train = np.load('inception/inception_avgpool_labels_train.npy')\n",
    "inception_avgpool_features_train = np.load('inception/inception_avgpool_features_train.npy')\n",
    "inception_avgpool_features_val = np.load('inception/inception_avgpool_features_val.npy')\n",
    "inception_avgpool_labels_val = np.load('inception/inception_avgpool_labels_val.npy')\n",
    "\n",
    "mobilenet_avgpool_labels_train = np.load('mobile-net/mobile_avgpool_labels_train.npy')\n",
    "mobilenet_avgpool_features_train = np.load('mobile-net/mobile_avgpool_features_train.npy')\n",
    "mobilenet_avgpool_features_val = np.load('mobile-net/mobile_avgpool_features_val.npy')\n",
    "mobilenet_avgpool_labels_val = np.load('mobile-net/mobile_avgpool_labels_val.npy')"
   ]
  }
 ],
 "metadata": {
  "kernelspec": {
   "display_name": "Python 3",
   "language": "python",
   "name": "python3"
  },
  "language_info": {
   "codemirror_mode": {
    "name": "ipython",
    "version": 3
   },
   "file_extension": ".py",
   "mimetype": "text/x-python",
   "name": "python",
   "nbconvert_exporter": "python",
   "pygments_lexer": "ipython3",
   "version": "3.10.4"
  }
 },
 "nbformat": 4,
 "nbformat_minor": 2
}
